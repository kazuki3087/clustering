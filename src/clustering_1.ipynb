{
 "cells": [
  {
   "cell_type": "code",
   "execution_count": 18,
   "metadata": {
    "executionInfo": {
     "elapsed": 3706,
     "status": "ok",
     "timestamp": 1684738624082,
     "user": {
      "displayName": "松本一希",
      "userId": "18068821758933359907"
     },
     "user_tz": -540
    },
    "id": "v9v_nPKQMTZd"
   },
   "outputs": [],
   "source": [
    "from sklearn.feature_extraction.text import TfidfVectorizer\n",
    "from sklearn.cluster import KMeans\n",
    "import numpy as np\n",
    "import matplotlib.pyplot as plt\n",
    "import pandas as pd\n",
    "import nltk\n",
    "import collections\n",
    "import re"
   ]
  },
  {
   "cell_type": "code",
   "execution_count": 2,
   "metadata": {
    "colab": {
     "base_uri": "https://localhost:8080/"
    },
    "executionInfo": {
     "elapsed": 1219,
     "status": "ok",
     "timestamp": 1684738676150,
     "user": {
      "displayName": "松本一希",
      "userId": "18068821758933359907"
     },
     "user_tz": -540
    },
    "id": "MaRmXeotMjKv",
    "outputId": "da639c61-caaa-4719-dd2f-545eec80fd09"
   },
   "outputs": [
    {
     "name": "stderr",
     "output_type": "stream",
     "text": [
      "[nltk_data] Downloading package stopwords to /root/nltk_data...\n",
      "[nltk_data]   Unzipping corpora/stopwords.zip.\n",
      "[nltk_data] Downloading package wordnet to /root/nltk_data...\n",
      "[nltk_data] Downloading package reuters to /root/nltk_data...\n",
      "[nltk_data] Downloading package punkt to /root/nltk_data...\n",
      "[nltk_data]   Unzipping tokenizers/punkt.zip.\n"
     ]
    },
    {
     "data": {
      "text/plain": [
       "True"
      ]
     },
     "execution_count": 2,
     "metadata": {},
     "output_type": "execute_result"
    }
   ],
   "source": [
    "nltk.download(\"stopwords\")\n",
    "nltk.download(\"wordnet\")\n",
    "nltk.download(\"punkt\")"
   ]
  },
  {
   "cell_type": "code",
   "execution_count": 90,
   "metadata": {},
   "outputs": [
    {
     "name": "stdout",
     "output_type": "stream",
     "text": [
      "US adds more jobs than expected\n",
      "\n",
      "The US economy added 337,000 jobs in October - a seven-month high and far more than Wall Street expectations.\n",
      "\n",
      "In a welcome economic boost for newly re-elected President George W Bush, the Labor Department figures come after a slow summer of weak jobs gains. Jobs were created in every sector of the US economy except manufacturing. While the separate unemployment rate went up to 5.5% from 5.4% in September, this was because more people were now actively seeking work.\n",
      "\n",
      "The 337,000 new jobs added to US payrolls in October was twice the 169,000 figure that Wall Street economists had forecast. In addition, the Labor Department revised up the number of jobs created in the two previous months - to 139,000 in September instead of 96,000, and to 198,000 in August instead of 128,000. The better than expected jobs data had an immediate upward effect on stocks in New York, with the main Dow Jones index gaining 45.4 points to 10,360 by late morning trading. \"It looks like the job situation is improving and that this will support consumer spending going into the holidays, and offset some of the drag caused by high oil prices this year,\" said economist Gary Thayer of AG Edwards & Sons.\n",
      "\n",
      "Other analysts said the upbeat jobs data made it more likely that the US Federal Reserve would increase interest rates by a quarter of a percentage point to 2% when it meets next week. \"It should empower the Fed to clearly do something,\" said Robert MacIntosh, chief economist with Eaton Vance Management in Boston. Kathleen Utgoff, commissioner of the Bureau of Labor, said many of the 71,000 new construction jobs added in October were involved in rebuilding and clean-up work in Florida, and neighbouring Deep South states, following four hurricanes in August and September. The dollar rose temporarily on the job creation news before falling back to a new record low against the euro, as investors returned their attention to other economic factors, such as the US's record trade deficit. There is also speculation that President Bush will deliberately try to keep the dollar low in order to assist a growth in exports.\n",
      "\n"
     ]
    }
   ],
   "source": [
    "f = open('archive/business/business_6.txt', 'r', encoding='UTF-8')\n",
    "\n",
    "text = f.read()\n",
    "print(text)\n",
    "\n",
    "f.close()"
   ]
  },
  {
   "cell_type": "code",
   "execution_count": 92,
   "metadata": {},
   "outputs": [
    {
     "name": "stdout",
     "output_type": "stream",
     "text": [
      "['US', 'adds', 'more', 'jobs', 'than', 'expected', 'The', 'US', 'economy', 'added', '337,000', 'jobs', 'in', 'October', '-', 'a', 'seven-month', 'high', 'and', 'far', 'more', 'than', 'Wall', 'Street', 'expectations', '.', 'In', 'a', 'welcome', 'economic', 'boost', 'for', 'newly', 're-elected', 'President', 'George', 'W', 'Bush', ',', 'the', 'Labor', 'Department', 'figures', 'come', 'after', 'a', 'slow', 'summer', 'of', 'weak', 'jobs', 'gains', '.', 'Jobs', 'were', 'created', 'in', 'every', 'sector', 'of', 'the', 'US', 'economy', 'except', 'manufacturing', '.', 'While', 'the', 'separate', 'unemployment', 'rate', 'went', 'up', 'to', '5.5', '%', 'from', '5.4', '%', 'in', 'September', ',', 'this', 'was', 'because', 'more', 'people', 'were', 'now', 'actively', 'seeking', 'work', '.', 'The', '337,000', 'new', 'jobs', 'added', 'to', 'US', 'payrolls', 'in', 'October', 'was', 'twice', 'the', '169,000', 'figure', 'that', 'Wall', 'Street', 'economists', 'had', 'forecast', '.', 'In', 'addition', ',', 'the', 'Labor', 'Department', 'revised', 'up', 'the', 'number', 'of', 'jobs', 'created', 'in', 'the', 'two', 'previous', 'months', '-', 'to', '139,000', 'in', 'September', 'instead', 'of', '96,000', ',', 'and', 'to', '198,000', 'in', 'August', 'instead', 'of', '128,000', '.', 'The', 'better', 'than', 'expected', 'jobs', 'data', 'had', 'an', 'immediate', 'upward', 'effect', 'on', 'stocks', 'in', 'New', 'York', ',', 'with', 'the', 'main', 'Dow', 'Jones', 'index', 'gaining', '45.4', 'points', 'to', '10,360', 'by', 'late', 'morning', 'trading', '.', '``', 'It', 'looks', 'like', 'the', 'job', 'situation', 'is', 'improving', 'and', 'that', 'this', 'will', 'support', 'consumer', 'spending', 'going', 'into', 'the', 'holidays', ',', 'and', 'offset', 'some', 'of', 'the', 'drag', 'caused', 'by', 'high', 'oil', 'prices', 'this', 'year', ',', \"''\", 'said', 'economist', 'Gary', 'Thayer', 'of', 'AG', 'Edwards', '&', 'Sons', '.', 'Other', 'analysts', 'said', 'the', 'upbeat', 'jobs', 'data', 'made', 'it', 'more', 'likely', 'that', 'the', 'US', 'Federal', 'Reserve', 'would', 'increase', 'interest', 'rates', 'by', 'a', 'quarter', 'of', 'a', 'percentage', 'point', 'to', '2', '%', 'when', 'it', 'meets', 'next', 'week', '.', '``', 'It', 'should', 'empower', 'the', 'Fed', 'to', 'clearly', 'do', 'something', ',', \"''\", 'said', 'Robert', 'MacIntosh', ',', 'chief', 'economist', 'with', 'Eaton', 'Vance', 'Management', 'in', 'Boston', '.', 'Kathleen', 'Utgoff', ',', 'commissioner', 'of', 'the', 'Bureau', 'of', 'Labor', ',', 'said', 'many', 'of', 'the', '71,000', 'new', 'construction', 'jobs', 'added', 'in', 'October', 'were', 'involved', 'in', 'rebuilding', 'and', 'clean-up', 'work', 'in', 'Florida', ',', 'and', 'neighbouring', 'Deep', 'South', 'states', ',', 'following', 'four', 'hurricanes', 'in', 'August', 'and', 'September', '.', 'The', 'dollar', 'rose', 'temporarily', 'on', 'the', 'job', 'creation', 'news', 'before', 'falling', 'back', 'to', 'a', 'new', 'record', 'low', 'against', 'the', 'euro', ',', 'as', 'investors', 'returned', 'their', 'attention', 'to', 'other', 'economic', 'factors', ',', 'such', 'as', 'the', 'US', \"'s\", 'record', 'trade', 'deficit', '.', 'There', 'is', 'also', 'speculation', 'that', 'President', 'Bush', 'will', 'deliberately', 'try', 'to', 'keep', 'the', 'dollar', 'low', 'in', 'order', 'to', 'assist', 'a', 'growth', 'in', 'exports', '.']\n"
     ]
    }
   ],
   "source": [
    "from nltk.tokenize import word_tokenize\n",
    "\n",
    "tokens = word_tokenize(text)\n",
    "print(tokens)"
   ]
  },
  {
   "cell_type": "markdown",
   "metadata": {
    "id": "U17VbjPaNIAD"
   },
   "source": [
    "## 前処理編"
   ]
  },
  {
   "cell_type": "markdown",
   "metadata": {
    "id": "HGPSmgSNNMFs"
   },
   "source": [
    "### 例 : ストップワードリストの作成\n",
    "\n",
    "### nltkのストップワードリスト"
   ]
  },
  {
   "cell_type": "code",
   "execution_count": 93,
   "metadata": {
    "id": "CHC1l7zDNFLx"
   },
   "outputs": [
    {
     "name": "stdout",
     "output_type": "stream",
     "text": [
      "['i', 'me', 'my', 'myself', 'we', 'our', 'ours', 'ourselves', 'you', \"you're\"]\n",
      "179\n"
     ]
    }
   ],
   "source": [
    "from nltk.corpus import stopwords\n",
    "\n",
    "en_stop = stopwords.words('english')\n",
    "print(en_stop[0:10])\n",
    "print(len(en_stop))"
   ]
  },
  {
   "cell_type": "markdown",
   "metadata": {
    "id": "HqdBEQpUNT74"
   },
   "source": [
    "### 例:【発展】記号や数字は正規表現で消してみる"
   ]
  },
  {
   "cell_type": "code",
   "execution_count": 94,
   "metadata": {
    "id": "to0DASSYNRj0"
   },
   "outputs": [],
   "source": [
    "en_stop= [\"``\",\"/\",\",.\",\".,\",\";\",\"--\",\":\",\")\",\"(\",'\"','&',\"'\",'),',',\"','-','.,','.,\"','.-',\"?\",\">\",\"<\",\"$\",\"%\"]                  \\\n",
    "         +[\"say\"] \\\n",
    "         +en_stop"
   ]
  },
  {
   "cell_type": "code",
   "execution_count": 95,
   "metadata": {},
   "outputs": [
    {
     "name": "stdout",
     "output_type": "stream",
     "text": [
      ",\n",
      "newly\n",
      "マッチしませんでした。\n"
     ]
    }
   ],
   "source": [
    "print(tokens[38])\n",
    "print(tokens[32])\n",
    "pattern1 = '.*\\d'\n",
    "res = re.match(pattern1, tokens[32])\n",
    "if res:\n",
    "    print(\"マッチしました。\")\n",
    "else:\n",
    "    print(\"マッチしませんでした。\")"
   ]
  },
  {
   "cell_type": "markdown",
   "metadata": {
    "id": "7hdG75XqNYPa"
   },
   "source": [
    "### 前処理関数の作成"
   ]
  },
  {
   "cell_type": "code",
   "execution_count": 96,
   "metadata": {
    "id": "f1jUH0P-NcoP"
   },
   "outputs": [],
   "source": [
    "from nltk.corpus import wordnet as wn #lemmatize関数のためのimport\n",
    "\n",
    "def preprocess_word(word, stopwordset):\n",
    "    \n",
    "    #1.make words lower ex: Python =>python\n",
    "    word=word.lower()\n",
    "    \n",
    "    #2.remove \",\" and \".\"\n",
    "    if word in [\",\",\".\"]:\n",
    "        return None\n",
    "    \n",
    "    #3.remove stopword  ex: the => (None) \n",
    "    if word in stopwordset:\n",
    "        return None\n",
    "    \n",
    "    pattern1 = '.*\\d'\n",
    "    res = re.match(pattern1, word)\n",
    "    if res:\n",
    "        return None\n",
    "    \n",
    "    pattern2 = '.*\\''\n",
    "    res = re.match(pattern2, word)\n",
    "    if res:\n",
    "        return None\n",
    "    \n",
    "    #4.lemmatize  ex: cooked=>cook\n",
    "    lemma = wn.morphy(word)\n",
    "    if lemma is None:\n",
    "        return word\n",
    "\n",
    "    elif lemma in stopwordset: #lemmatizeしたものがstopwordである可能性がある\n",
    "        return None\n",
    "    else:\n",
    "        return lemma\n",
    "\n",
    "def preprocess_document(document):\n",
    "    document=[preprocess_word(w, en_stop) for w in document]\n",
    "    document=[w for w in document if w is not None]\n",
    "    return document\n",
    "\n",
    "def preprocess_documents(documents):\n",
    "    return [preprocess_document(document) for document in documents]"
   ]
  },
  {
   "cell_type": "code",
   "execution_count": 97,
   "metadata": {},
   "outputs": [
    {
     "name": "stdout",
     "output_type": "stream",
     "text": [
      "['us', 'add', 'job', 'expect', 'us', 'economy', 'add', 'job', 'october', 'seven-month', 'high', 'far', 'wall', 'street', 'expectation', 'welcome', 'economic', 'boost', 'newly', 're-elected', 'president', 'george', 'w', 'bush', 'labor', 'department', 'figure', 'come', 'slow', 'summer', 'weak', 'job', 'gain', 'job', 'create', 'every', 'sector', 'us', 'economy', 'except', 'manufacturing', 'separate', 'unemployment', 'rate', 'go', 'september', 'people', 'actively', 'seeking', 'work', 'new', 'job', 'add', 'us', 'payroll', 'october', 'twice', 'figure', 'wall', 'street', 'economist', 'forecast', 'addition', 'labor', 'department', 'revise', 'number', 'job', 'create', 'two', 'previous', 'month', 'september', 'instead', 'august', 'instead', 'better', 'expect', 'job', 'data', 'immediate', 'upward', 'effect', 'stocks', 'new', 'york', 'main', 'dow', 'jones', 'index', 'gain', 'point', 'late', 'morning', 'trading', 'look', 'like', 'job', 'situation', 'improve', 'support', 'consumer', 'spending', 'going', 'holiday', 'offset', 'drag', 'cause', 'high', 'oil', 'price', 'year', 'economist', 'gary', 'thayer', 'ag', 'edwards', 'son', 'analyst', 'upbeat', 'job', 'data', 'make', 'likely', 'us', 'federal', 'reserve', 'would', 'increase', 'interest', 'rates', 'quarter', 'percentage', 'point', 'meet', 'next', 'week', 'empower', 'fed', 'clearly', 'something', 'robert', 'macintosh', 'chief', 'economist', 'eaton', 'vance', 'management', 'boston', 'kathleen', 'utgoff', 'commissioner', 'bureau', 'labor', 'many', 'new', 'construction', 'job', 'add', 'october', 'involve', 'rebuilding', 'clean-up', 'work', 'florida', 'neighbour', 'deep', 'south', 'state', 'following', 'four', 'hurricane', 'august', 'september', 'dollar', 'rose', 'temporarily', 'job', 'creation', 'news', 'fall', 'back', 'new', 'record', 'low', 'euro', 'investor', 'return', 'attention', 'economic', 'factor', 'us', 'record', 'trade', 'deficit', 'also', 'speculation', 'president', 'bush', 'deliberately', 'try', 'keep', 'dollar', 'low', 'order', 'assist', 'growth', 'export']\n"
     ]
    }
   ],
   "source": [
    "print(preprocess_document(tokens))"
   ]
  },
  {
   "cell_type": "markdown",
   "metadata": {
    "id": "nJZeCVgNNi5T"
   },
   "source": [
    "### 前処理の結果を出力してみる"
   ]
  },
  {
   "cell_type": "markdown",
   "metadata": {
    "id": "WGX6YzgVNmbV"
   },
   "source": [
    "### 前処理前"
   ]
  },
  {
   "cell_type": "code",
   "execution_count": 10,
   "metadata": {
    "colab": {
     "base_uri": "https://localhost:8080/"
    },
    "executionInfo": {
     "elapsed": 6,
     "status": "ok",
     "timestamp": 1684736543189,
     "user": {
      "displayName": "松本一希",
      "userId": "18068821758933359907"
     },
     "user_tz": -540
    },
    "id": "2u2P8lmTNgLn",
    "outputId": "0db4c6c3-c209-4bd1-f0ee-524fe85b09a0"
   },
   "outputs": [
    {
     "name": "stdout",
     "output_type": "stream",
     "text": [
      "['ASIAN', 'EXPORTERS', 'FEAR', 'DAMAGE', 'FROM', 'U', '.', 'S', '.-', 'JAPAN', 'RIFT', 'Mounting', 'trade', 'friction', 'between', 'the', 'U', '.', 'S', '.', 'And', 'Japan', 'has', 'raised', 'fears']\n"
     ]
    }
   ],
   "source": [
    "print(docs[0][:25]) "
   ]
  },
  {
   "cell_type": "markdown",
   "metadata": {
    "id": "Ki-UHTcXNptm"
   },
   "source": [
    "### 前処理後"
   ]
  },
  {
   "cell_type": "code",
   "execution_count": 11,
   "metadata": {
    "colab": {
     "base_uri": "https://localhost:8080/"
    },
    "executionInfo": {
     "elapsed": 14694,
     "status": "ok",
     "timestamp": 1684736563707,
     "user": {
      "displayName": "松本一希",
      "userId": "18068821758933359907"
     },
     "user_tz": -540
    },
    "id": "0rHr8yGINpDM",
    "outputId": "f9eb801f-7021-4ef6-a628-136eda67d23e"
   },
   "outputs": [
    {
     "name": "stdout",
     "output_type": "stream",
     "text": [
      "['asian', 'exporter', 'fear', 'damage', 'japan', 'rift', 'mounting', 'trade', 'friction', 'japan', 'raise', 'fear', 'among', 'many', 'asia', 'exporting', 'nation', 'row', 'could', 'inflict', 'far', 'reaching', 'economic', 'damage', 'businessmen']\n"
     ]
    }
   ],
   "source": [
    "print(preprocess_documents(docs)[0][:25])"
   ]
  },
  {
   "cell_type": "markdown",
   "metadata": {
    "id": "kIwd7wGvNyWj"
   },
   "source": [
    "## クラスタリング編"
   ]
  },
  {
   "cell_type": "markdown",
   "metadata": {
    "id": "WPAMVMFaN2yL"
   },
   "source": [
    "### tf idfで上記の前処理済みの文章をベクトル化\n",
    "### vectorizerを使用する（ハイパーパラメーターの設定）"
   ]
  },
  {
   "cell_type": "code",
   "execution_count": 12,
   "metadata": {
    "colab": {
     "base_uri": "https://localhost:8080/"
    },
    "executionInfo": {
     "elapsed": 12799,
     "status": "ok",
     "timestamp": 1684736600554,
     "user": {
      "displayName": "松本一希",
      "userId": "18068821758933359907"
     },
     "user_tz": -540
    },
    "id": "QVtbDMmtNuQV",
    "outputId": "39fdcbe1-99a4-4e6c-edbd-3ad063d1d222"
   },
   "outputs": [
    {
     "name": "stdout",
     "output_type": "stream",
     "text": [
      "asian exporter fear damage japan rift mounting trade friction japan raise fear among many asia exporting nation row could inflict far reaching economic damage businessmen official tell reuter correspondent asian capital move japan might boost protectionist sentiment lead curb american import product exporter conflict would hurt long run short term tokyo loss might gain impose 300 tariff import japanese electronics good april 17 retaliation japan allege failure stick pact sell semiconductor world market cost unofficial japanese estimate put impact tariff spokesman major electronics firm would virtually halt export product hit new tax able business spokesman leading japanese electronics firm matsushita electric industrial co ltd mc >. tariff remain place length time beyond month mean complete erosion export good subject tariff tom murtha stock analyst tokyo office broker james capel co >. taiwan businessmen official also worry aware seriousness threat japan serve warning us senior taiwanese trade official ask name taiwan trade trade surplus 15 last 95 surplus help swell taiwan foreign exchange reserves 53 among world large must quickly open market remove trade barrier cut import tariff allow import product want defuse problem possible retaliation paul sheen chairman textile exporter taiwan safe group >. senior official south korea trade promotion association trade dispute japan might also lead pressure south korea whose chief export similar japan last south korea trade surplus 1985 malaysia trade officer businessmen tough curb japan might allow hard hit producer semiconductor third country expand sales hong kong newspaper allege japan selling cost semiconductor electronics manufacturer view businessmen short term commercial advantage would outweigh pressure block import short term view lawrence mills director general federation hong kong industry whole purpose prevent import one day extend source much serious hong kong disadvantage action restrain trade last hong kong big export market accounting 30 domestically produce export australian government await outcome trade talks japan interest concern industry minister john button canberra last friday kind deterioration trade relations two country major trading partner serious matter button australia concern centre coal beef australia two large export japan also significant export country meanwhile japanese diplomatic manoeuvre solve trade stand continue japan ruling liberal democratic party yesterday outline package economic measure boost japanese economy measure propose include large supplementary budget record public works spending first half financial also call step spending emergency measure stimulate economy despite prime minister yasuhiro nakasone avow fiscal reform program deputy trade representative michael smith makoto kuroda japan deputy minister international trade industry miti due meet washington week effort end dispute\n"
     ]
    }
   ],
   "source": [
    "pre_docs=preprocess_documents(docs)\n",
    "pre_docs=[\" \".join(doc) for doc in pre_docs]\n",
    "print(pre_docs[0])\n",
    "\n",
    "vectorizer = TfidfVectorizer(max_features=200, token_pattern=u'(?u)\\\\b\\\\w+\\\\b' )"
   ]
  },
  {
   "cell_type": "markdown",
   "metadata": {
    "id": "bOOrgZHZN_Aw"
   },
   "source": [
    "### fitする"
   ]
  },
  {
   "cell_type": "code",
   "execution_count": 13,
   "metadata": {
    "id": "98b3XjG7N8nZ"
   },
   "outputs": [],
   "source": [
    "tf_idf = vectorizer.fit_transform(pre_docs)"
   ]
  },
  {
   "cell_type": "markdown",
   "metadata": {
    "id": "yKhgoWLeOCW_"
   },
   "source": [
    "### K-means\n",
    "### kmeansの設定"
   ]
  },
  {
   "cell_type": "code",
   "execution_count": 14,
   "metadata": {
    "id": "qVRkE4lsOBuL"
   },
   "outputs": [],
   "source": [
    "num_clusters = 8\n",
    "km = KMeans(n_clusters=num_clusters, random_state = 0)"
   ]
  },
  {
   "cell_type": "markdown",
   "metadata": {
    "id": "SoOo2YWkOU9T"
   },
   "source": [
    "### fitする"
   ]
  },
  {
   "cell_type": "code",
   "execution_count": 15,
   "metadata": {
    "colab": {
     "base_uri": "https://localhost:8080/"
    },
    "executionInfo": {
     "elapsed": 1586,
     "status": "ok",
     "timestamp": 1684736634432,
     "user": {
      "displayName": "松本一希",
      "userId": "18068821758933359907"
     },
     "user_tz": -540
    },
    "id": "ZmhVNkcyOSxq",
    "outputId": "fbaf967f-3588-4ff4-93a4-b41e88918cef"
   },
   "outputs": [
    {
     "name": "stderr",
     "output_type": "stream",
     "text": [
      "/usr/local/lib/python3.10/site-packages/sklearn/cluster/_kmeans.py:870: FutureWarning: The default value of `n_init` will change from 10 to 'auto' in 1.4. Set the value of `n_init` explicitly to suppress the warning\n",
      "  warnings.warn(\n"
     ]
    }
   ],
   "source": [
    "clusters = km.fit_predict(tf_idf)"
   ]
  },
  {
   "cell_type": "markdown",
   "metadata": {
    "id": "aIcN2sKSOZdu"
   },
   "source": [
    "### 出力結果"
   ]
  },
  {
   "cell_type": "code",
   "execution_count": 16,
   "metadata": {
    "colab": {
     "base_uri": "https://localhost:8080/",
     "output_embedded_package_id": "12lbXOsEI7_fHp8m8oQfh4oyiBZ9tMi8t"
    },
    "executionInfo": {
     "elapsed": 8968,
     "status": "ok",
     "timestamp": 1684736647142,
     "user": {
      "displayName": "松本一希",
      "userId": "18068821758933359907"
     },
     "user_tz": -540
    },
    "id": "HBFqXETzOXec",
    "outputId": "659b949d-4a13-48f3-fec6-b212919f834a"
   },
   "outputs": [
    {
     "name": "stderr",
     "output_type": "stream",
     "text": [
      "IOPub data rate exceeded.\n",
      "The notebook server will temporarily stop sending output\n",
      "to the client in order to avoid crashing it.\n",
      "To change this limit, set the config variable\n",
      "`--NotebookApp.iopub_data_rate_limit`.\n",
      "\n",
      "Current values:\n",
      "NotebookApp.iopub_data_rate_limit=1000000.0 (bytes/sec)\n",
      "NotebookApp.rate_limit_window=3.0 (secs)\n",
      "\n"
     ]
    }
   ],
   "source": [
    "for doc, cls in zip(pre_docs, clusters):\n",
    "    print(cls,doc)"
   ]
  },
  {
   "cell_type": "markdown",
   "metadata": {
    "id": "yRRWSoojOm1-"
   },
   "source": [
    "## 応用\n",
    "クラスタリング編でコードを以下に指示に従って変更する事で結果がどの様に変わるのかを確認してみましょう．<br>\n",
    "    （１）講義で学んだ他の手法でベクトル化してみる(例：bag-of-words)<br>\n",
    "    （２）kmeans以外の手法、又はkmeansを可視化してみる(例：階層型クラスタリング)\n"
   ]
  },
  {
   "cell_type": "markdown",
   "metadata": {
    "id": "Ps1PgVeyOfbU"
   },
   "source": [
    "## ヒント\n",
    "\n",
    "scikit-learnのvectorizerとkmeansにはたくさんのハイパーパラメータがあります。vectorizerのハイパーパラメータの中には前処理機能(例：stop_words)もあります。\n",
    "    ハイパーパラメータの設定を変える事で最終的な結果は変わります。以下のURLにアクセスしてハイパーパラメータの独自で設定してみてください。<br>\n",
    "    ・TF-IDFに関するパラメータ<br>\n",
    "    https://scikit-learn.org/stable/modules/generated/sklearn.feature_extraction.text.TfidfVectorizer.html<br>\n",
    "    ・Kmeansに関するパラメータ<br>\n",
    "    https://scikit-learn.org/stable/modules/generated/sklearn.cluster.KMeans.html<br>\n",
    "\n"
   ]
  }
 ],
 "metadata": {
  "colab": {
   "provenance": [
    {
     "file_id": "https://github.com/kobemawu/www/blob/master/Clustering.ipynb",
     "timestamp": 1684735936001
    }
   ]
  },
  "kernelspec": {
   "display_name": "Python 3 (ipykernel)",
   "language": "python",
   "name": "python3"
  },
  "language_info": {
   "codemirror_mode": {
    "name": "ipython",
    "version": 3
   },
   "file_extension": ".py",
   "mimetype": "text/x-python",
   "name": "python",
   "nbconvert_exporter": "python",
   "pygments_lexer": "ipython3",
   "version": "3.10.11"
  }
 },
 "nbformat": 4,
 "nbformat_minor": 1
}
